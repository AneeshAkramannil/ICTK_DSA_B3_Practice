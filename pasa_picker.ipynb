{
 "cells": [
  {
   "cell_type": "markdown",
   "id": "908c8706",
   "metadata": {},
   "source": [
    "# Activity1: Password picker using python"
   ]
  },
  {
   "cell_type": "code",
   "execution_count": 1,
   "id": "06686d75",
   "metadata": {},
   "outputs": [],
   "source": [
    "import random\n"
   ]
  },
  {
   "cell_type": "code",
   "execution_count": 4,
   "id": "11794690",
   "metadata": {},
   "outputs": [],
   "source": [
    "adj = [\"adamant\",\"abandon\",\"adorable\",\"affected\",\"rude\",\"Amused\",\"Delighted\",\"Glad\",\"Please\",\"Charmed\",\n",
    "       \"Grateful\",\"Optimistic\",\"Content\",\"Joyful\",'Enthusiastic','Loving',\"Marvelous\"]     "
   ]
  },
  {
   "cell_type": "code",
   "execution_count": 7,
   "id": "a12f6614",
   "metadata": {},
   "outputs": [],
   "source": [
    "noun = [\"thief\",'thieves','volcano','volcanoes','bacterium','bacteria','loaf','loaves','atlas',\n",
    "        'atlases','arch','arches','syllabus','syllabi',\"nannies\"]"
   ]
  },
  {
   "cell_type": "code",
   "execution_count": 9,
   "id": "ea7c0569",
   "metadata": {},
   "outputs": [],
   "source": [
    "punc = [\"!\",\"@\",\"#\",'$','%','^','*','(',')',':',';']"
   ]
  },
  {
   "cell_type": "code",
   "execution_count": 11,
   "id": "0ec2cc38",
   "metadata": {},
   "outputs": [
    {
     "name": "stdout",
     "output_type": "stream",
     "text": [
      "Please bacteria 947 #\n"
     ]
    }
   ],
   "source": [
    "print(random.choice(adj),random.choice(noun),random.randrange(0,1000),random.choice(punc))"
   ]
  },
  {
   "cell_type": "code",
   "execution_count": 12,
   "id": "9cd84d49",
   "metadata": {},
   "outputs": [
    {
     "name": "stdout",
     "output_type": "stream",
     "text": [
      "affected volcanoes 139 ;\n"
     ]
    }
   ],
   "source": [
    "print(random.choice(adj),random.choice(noun),random.randrange(0,1000),random.choice(punc))"
   ]
  }
 ],
 "metadata": {
  "kernelspec": {
   "display_name": "Python 3 (ipykernel)",
   "language": "python",
   "name": "python3"
  },
  "language_info": {
   "codemirror_mode": {
    "name": "ipython",
    "version": 3
   },
   "file_extension": ".py",
   "mimetype": "text/x-python",
   "name": "python",
   "nbconvert_exporter": "python",
   "pygments_lexer": "ipython3",
   "version": "3.8.8"
  }
 },
 "nbformat": 4,
 "nbformat_minor": 5
}
